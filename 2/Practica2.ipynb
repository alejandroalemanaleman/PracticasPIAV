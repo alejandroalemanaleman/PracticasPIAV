{
 "cells": [
  {
   "cell_type": "markdown",
   "id": "2a346291",
   "metadata": {},
   "source": [
    "# Práctica 2: Transformaciones geométricas"
   ]
  },
  {
   "cell_type": "markdown",
   "id": "7b78eacb",
   "metadata": {},
   "source": [
    "### 1a. Desarrollar una aplicación que lleve a cabo transformaciones de la imagen en tiempo real a través de una interfaz basada en trackbars o equivalente.\n",
    "\n",
    "#### Hacer traslaciones. Es necesario indicar la magnitud de la traslación en X y en Y.\n",
    "\n",
    "#### Hacer rotaciones. Es necesario indicar el centro de giro y ángulo de giro.\n",
    "\n",
    "#### Hacer escalados uniformes y no uniformes. Es necesario indicar los factores de escala."
   ]
  },
  {
   "cell_type": "code",
   "execution_count": 11,
   "id": "18d22176",
   "metadata": {},
   "outputs": [
    {
     "data": {
      "text/plain": [
       "-1"
      ]
     },
     "execution_count": 11,
     "metadata": {},
     "output_type": "execute_result"
    }
   ],
   "source": [
    "#Traslacion\n",
    "\n",
    "import cv2\n",
    "import numpy as np\n",
    "\n",
    "def nothing(x):\n",
    "    pass\n",
    "\n",
    "image = cv2.imread('images/cats.png')\n",
    "size = (image.shape[1], image.shape[0])\n",
    "\n",
    "cv2.namedWindow(\"Traslacion\")\n",
    "\n",
    "# traslación\n",
    "cv2.createTrackbar('tx', 'Traslacion', 0, 200, nothing)\n",
    "cv2.createTrackbar('ty', 'Traslacion', 0, 200, nothing)\n",
    "\n",
    "while True:\n",
    "    tx = cv2.getTrackbarPos('tx', 'Traslacion')\n",
    "    ty = cv2.getTrackbarPos('ty', 'Traslacion')\n",
    "    \n",
    "    T = np.float32([[1,0,tx],\n",
    "                    [0,1,ty]])\n",
    "\n",
    "    imageT = cv2.warpAffine(image, T, size)\n",
    "\n",
    "    cv2.imshow(\"Original\", image)\n",
    "    cv2.imshow('Traslacion', imageT)\n",
    "\n",
    "\n",
    "    if cv2.waitKey(1) & 0xFF == 27:\n",
    "        break\n",
    "\n",
    "cv2.destroyAllWindows()\n",
    "cv2.waitKey(1)"
   ]
  },
  {
   "cell_type": "code",
   "execution_count": 12,
   "id": "1aa33bb4",
   "metadata": {},
   "outputs": [
    {
     "data": {
      "text/plain": [
       "-1"
      ]
     },
     "execution_count": 12,
     "metadata": {},
     "output_type": "execute_result"
    }
   ],
   "source": [
    "#Rotacion\n",
    "\n",
    "import cv2\n",
    "import numpy as np\n",
    "\n",
    "def nothing(x):\n",
    "    pass\n",
    "\n",
    "image = cv2.imread('images/cats.png')\n",
    "size = (image.shape[1], image.shape[0])\n",
    "\n",
    "cv2.namedWindow(\"Rotacion\")\n",
    "\n",
    "\n",
    "cv2.createTrackbar('a', 'Rotacion', 0, 360, nothing)\n",
    "cv2.createTrackbar('tx', 'Rotacion', 0, 200, nothing)\n",
    "cv2.createTrackbar('ty', 'Rotacion', 0, 200, nothing)\n",
    "\n",
    "while True:\n",
    "    ang = cv2.getTrackbarPos('a', 'Rotacion')\n",
    "    tx = cv2.getTrackbarPos('tx', 'Rotacion')\n",
    "    ty = cv2.getTrackbarPos('ty', 'Rotacion')\n",
    "    \n",
    "    a = np.deg2rad(ang)\n",
    "    \n",
    "    T = np.float32(\n",
    "        [[np.cos(a),-np.sin(a),tx],\n",
    "         [np.sin(a),np.cos(a),ty]])\n",
    "\n",
    "    imageR = cv2.warpAffine(image, T, size)\n",
    "\n",
    "    cv2.imshow(\"Original\", image)\n",
    "    cv2.imshow('Rotacion', imageR)\n",
    "\n",
    "\n",
    "    if cv2.waitKey(1) & 0xFF == 27:\n",
    "        break\n",
    "\n",
    "cv2.destroyAllWindows()\n",
    "cv2.waitKey(1)"
   ]
  },
  {
   "cell_type": "code",
   "execution_count": null,
   "id": "a334575e",
   "metadata": {},
   "outputs": [
    {
     "data": {
      "text/plain": [
       "-1"
      ]
     },
     "execution_count": 9,
     "metadata": {},
     "output_type": "execute_result"
    }
   ],
   "source": [
    "import cv2\n",
    "import numpy as np\n",
    "\n",
    "def nothing(x):\n",
    "    pass\n",
    "\n",
    "image = cv2.imread('images/cats.png')\n",
    "size = (image.shape[1], image.shape[0])\n",
    "\n",
    "cv2.namedWindow(\"Rotacion\")\n",
    "\n",
    "cv2.createTrackbar('sx', 'Rotacion', 0, 20, nothing)\n",
    "cv2.createTrackbar('sy', 'Rotacion', 0, 20, nothing)\n",
    "\n",
    "while True:\n",
    "    sx = cv2.getTrackbarPos('sx', 'Rotacion') / 10\n",
    "    sy = cv2.getTrackbarPos('sy', 'Rotacion') / 10\n",
    "    \n",
    "    T = np.float32(\n",
    "        [[sx, 0, 0],\n",
    "         [0, sy, 0]])\n",
    "\n",
    "    imageR = cv2.warpAffine(image, T, size)\n",
    "\n",
    "    cv2.imshow(\"Original\", image)\n",
    "    cv2.imshow('Rotacion', imageR)\n",
    "\n",
    "\n",
    "    if cv2.waitKey(1) & 0xFF == 27:\n",
    "        break\n",
    "\n",
    "\n",
    "cv2.destroyAllWindows()\n",
    "cv2.waitKey(1)\n"
   ]
  },
  {
   "cell_type": "markdown",
   "id": "cd3d1d25",
   "metadata": {},
   "source": [
    "### 1b. Dada una imagen trazar una ventana de proyección y proyectar la imagen."
   ]
  },
  {
   "cell_type": "code",
   "execution_count": null,
   "id": "4875b032",
   "metadata": {},
   "outputs": [],
   "source": []
  },
  {
   "cell_type": "markdown",
   "id": "e562b5bf",
   "metadata": {},
   "source": [
    "### 1c. Desarrollar una aplicación que lleve a cabo distorsiones de la lente. Para ello los coeficientes de distorsión deben gobernarse a través de una interfaz"
   ]
  },
  {
   "cell_type": "markdown",
   "id": "7b1fd655",
   "metadata": {},
   "source": [
    "##### (Optativo – 5 puntos)\n",
    "- Marcar el punto de giro con el ratón.\n",
    "- Trasladar la imagen arrastrándolo con el ratón y visualizarlo en tiempo real.\n",
    "- Hacer la parte obligatoria sobre vídeo en lugar de sobre imagen.\n",
    "- Dada una imagen seleccionar tres puntos de la imagen original y tres puntos en\n",
    "una imagen destino y realizar la transformación afín.\n",
    "- Calcular la imagen especular a partir de una imagen.\n",
    "- Tratar una recta que será el eje de reflexión y “reflejar” la imagen.\n",
    "- Otras aportaciones"
   ]
  }
 ],
 "metadata": {
  "kernelspec": {
   "display_name": "Python 3",
   "language": "python",
   "name": "python3"
  },
  "language_info": {
   "codemirror_mode": {
    "name": "ipython",
    "version": 3
   },
   "file_extension": ".py",
   "mimetype": "text/x-python",
   "name": "python",
   "nbconvert_exporter": "python",
   "pygments_lexer": "ipython3",
   "version": "3.12.0"
  }
 },
 "nbformat": 4,
 "nbformat_minor": 5
}
