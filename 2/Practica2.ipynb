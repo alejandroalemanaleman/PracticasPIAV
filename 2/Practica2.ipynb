{
 "cells": [
  {
   "cell_type": "markdown",
   "id": "2a346291",
   "metadata": {},
   "source": [
    "# Práctica 2: Transformaciones geométricas"
   ]
  },
  {
   "cell_type": "markdown",
   "id": "7b78eacb",
   "metadata": {},
   "source": [
    "### 1a. Desarrollar una aplicación que lleve a cabo transformaciones de la imagen en tiempo real a través de una interfaz basada en trackbars o equivalente.\n",
    "\n",
    "#### Hacer traslaciones. Es necesario indicar la magnitud de la traslación en X y en Y.\n",
    "\n",
    "#### Hacer rotaciones. Es necesario indicar el centro de giro y ángulo de giro.\n",
    "\n",
    "#### Hacer escalados uniformes y no uniformes. Es necesario indicar los factores de escala."
   ]
  },
  {
   "cell_type": "code",
   "execution_count": 11,
   "id": "18d22176",
   "metadata": {},
   "outputs": [
    {
     "data": {
      "text/plain": [
       "-1"
      ]
     },
     "execution_count": 11,
     "metadata": {},
     "output_type": "execute_result"
    }
   ],
   "source": [
    "#Traslacion\n",
    "\n",
    "import cv2\n",
    "import numpy as np\n",
    "\n",
    "def nothing(x):\n",
    "    pass\n",
    "\n",
    "image = cv2.imread('images/cats.png')\n",
    "size = (image.shape[1], image.shape[0])\n",
    "\n",
    "cv2.namedWindow(\"Traslacion\")\n",
    "\n",
    "# traslación\n",
    "cv2.createTrackbar('tx', 'Traslacion', 0, 200, nothing)\n",
    "cv2.createTrackbar('ty', 'Traslacion', 0, 200, nothing)\n",
    "\n",
    "while True:\n",
    "    tx = cv2.getTrackbarPos('tx', 'Traslacion')\n",
    "    ty = cv2.getTrackbarPos('ty', 'Traslacion')\n",
    "    \n",
    "    T = np.float32([[1,0,tx],\n",
    "                    [0,1,ty]])\n",
    "\n",
    "    imageT = cv2.warpAffine(image, T, size)\n",
    "\n",
    "    cv2.imshow(\"Original\", image)\n",
    "    cv2.imshow('Traslacion', imageT)\n",
    "\n",
    "\n",
    "    if cv2.waitKey(1) & 0xFF == 27:\n",
    "        break\n",
    "\n",
    "cv2.destroyAllWindows()\n",
    "cv2.waitKey(1)"
   ]
  },
  {
   "cell_type": "code",
   "execution_count": 12,
   "id": "1aa33bb4",
   "metadata": {},
   "outputs": [
    {
     "data": {
      "text/plain": [
       "-1"
      ]
     },
     "execution_count": 12,
     "metadata": {},
     "output_type": "execute_result"
    }
   ],
   "source": [
    "#Rotacion\n",
    "\n",
    "import cv2\n",
    "import numpy as np\n",
    "\n",
    "def nothing(x):\n",
    "    pass\n",
    "\n",
    "image = cv2.imread('images/cats.png')\n",
    "size = (image.shape[1], image.shape[0])\n",
    "\n",
    "cv2.namedWindow(\"Rotacion\")\n",
    "\n",
    "\n",
    "cv2.createTrackbar('a', 'Rotacion', 0, 360, nothing)\n",
    "cv2.createTrackbar('tx', 'Rotacion', 0, 200, nothing)\n",
    "cv2.createTrackbar('ty', 'Rotacion', 0, 200, nothing)\n",
    "\n",
    "while True:\n",
    "    ang = cv2.getTrackbarPos('a', 'Rotacion')\n",
    "    tx = cv2.getTrackbarPos('tx', 'Rotacion')\n",
    "    ty = cv2.getTrackbarPos('ty', 'Rotacion')\n",
    "    \n",
    "    a = np.deg2rad(ang)\n",
    "    \n",
    "    T = np.float32(\n",
    "        [[np.cos(a),-np.sin(a),tx],\n",
    "         [np.sin(a),np.cos(a),ty]])\n",
    "\n",
    "    imageR = cv2.warpAffine(image, T, size)\n",
    "\n",
    "    cv2.imshow(\"Original\", image)\n",
    "    cv2.imshow('Rotacion', imageR)\n",
    "\n",
    "\n",
    "    if cv2.waitKey(1) & 0xFF == 27:\n",
    "        break\n",
    "\n",
    "cv2.destroyAllWindows()\n",
    "cv2.waitKey(1)"
   ]
  },
  {
   "cell_type": "code",
   "execution_count": null,
   "id": "a334575e",
   "metadata": {},
   "outputs": [
    {
     "data": {
      "text/plain": [
       "-1"
      ]
     },
     "execution_count": 9,
     "metadata": {},
     "output_type": "execute_result"
    }
   ],
   "source": [
    "import cv2\n",
    "import numpy as np\n",
    "\n",
    "def nothing(x):\n",
    "    pass\n",
    "\n",
    "image = cv2.imread('images/cats.png')\n",
    "size = (image.shape[1], image.shape[0])\n",
    "\n",
    "cv2.namedWindow(\"Rotacion\")\n",
    "\n",
    "cv2.createTrackbar('sx', 'Rotacion', 0, 20, nothing)\n",
    "cv2.createTrackbar('sy', 'Rotacion', 0, 20, nothing)\n",
    "\n",
    "while True:\n",
    "    sx = cv2.getTrackbarPos('sx', 'Rotacion') / 10\n",
    "    sy = cv2.getTrackbarPos('sy', 'Rotacion') / 10\n",
    "    \n",
    "    T = np.float32(\n",
    "        [[sx, 0, 0],\n",
    "         [0, sy, 0]])\n",
    "\n",
    "    imageR = cv2.warpAffine(image, T, size)\n",
    "\n",
    "    cv2.imshow(\"Original\", image)\n",
    "    cv2.imshow('Rotacion', imageR)\n",
    "\n",
    "\n",
    "    if cv2.waitKey(1) & 0xFF == 27:\n",
    "        break\n",
    "\n",
    "\n",
    "cv2.destroyAllWindows()\n",
    "cv2.waitKey(1)\n"
   ]
  },
  {
   "cell_type": "markdown",
   "id": "cd3d1d25",
   "metadata": {},
   "source": [
    "### 1b. Dada una imagen trazar una ventana de proyección y proyectar la imagen."
   ]
  },
  {
   "cell_type": "code",
   "execution_count": null,
   "id": "4875b032",
   "metadata": {},
   "outputs": [
    {
     "name": "stdout",
     "output_type": "stream",
     "text": [
      "Haz clic en 4 puntos en la imagen ORIGINAL (rojo).\n",
      "Luego haz clic en 4 puntos en la imagen DESTINO (azul).\n",
      "Transformación completada.\n"
     ]
    },
    {
     "ename": "KeyboardInterrupt",
     "evalue": "",
     "output_type": "error",
     "traceback": [
      "\u001b[0;31m---------------------------------------------------------------------------\u001b[0m",
      "\u001b[0;31mKeyboardInterrupt\u001b[0m                         Traceback (most recent call last)",
      "Cell \u001b[0;32mIn[7], line 87\u001b[0m\n\u001b[1;32m     83\u001b[0m cv\u001b[38;5;241m.\u001b[39mimshow(\u001b[38;5;124m'\u001b[39m\u001b[38;5;124mDestino\u001b[39m\u001b[38;5;124m'\u001b[39m, img2)\n\u001b[1;32m     86\u001b[0m \u001b[38;5;28;01mwhile\u001b[39;00m \u001b[38;5;28;01mTrue\u001b[39;00m:\n\u001b[0;32m---> 87\u001b[0m     k \u001b[38;5;241m=\u001b[39m \u001b[43mcv\u001b[49m\u001b[38;5;241;43m.\u001b[39;49m\u001b[43mwaitKey\u001b[49m\u001b[43m(\u001b[49m\u001b[38;5;241;43m1\u001b[39;49m\u001b[43m)\u001b[49m \u001b[38;5;241m&\u001b[39m \u001b[38;5;241m0xFF\u001b[39m\n\u001b[1;32m     88\u001b[0m     \u001b[38;5;28;01mif\u001b[39;00m k \u001b[38;5;241m==\u001b[39m \u001b[38;5;241m27\u001b[39m:  \n\u001b[1;32m     89\u001b[0m         \u001b[38;5;28;01mbreak\u001b[39;00m\n",
      "\u001b[0;31mKeyboardInterrupt\u001b[0m: "
     ]
    }
   ],
   "source": [
    "# Proyección de una imagen en otra mediante homografía\n",
    "\n",
    "import cv2 as cv\n",
    "import numpy as np\n",
    "\n",
    "# ------------------------------\n",
    "# Cargar imagen original\n",
    "# ------------------------------\n",
    "img = cv.imread('images/eii.png')\n",
    "if img is None:\n",
    "    print(\"Error: no se pudo cargar la imagen\")\n",
    "    exit()\n",
    "\n",
    "h, w = img.shape[:2]\n",
    "img2 = np.ones((h, w, 3), dtype=np.uint8) * 255  # segunda ventana en blanco\n",
    "\n",
    "# Copias para dibujar los puntos\n",
    "clone1 = img.copy()\n",
    "clone2 = img2.copy()\n",
    "\n",
    "# Listas para guardar puntos\n",
    "pts_src = []\n",
    "pts_dst = []\n",
    "\n",
    "# ------------------------------\n",
    "# Callback del ratón para ambas ventanas\n",
    "# ------------------------------\n",
    "def seleccionar_puntos(event, x, y, flags, param):\n",
    "    global pts_src, pts_dst, clone1, clone2\n",
    "\n",
    "    # param = 1 → primera imagen (fuente)\n",
    "    # param = 2 → segunda imagen (destino)\n",
    "    if event == cv.EVENT_LBUTTONDOWN:\n",
    "        if param == 1 and len(pts_src) < 4:\n",
    "            pts_src.append((x, y))\n",
    "            cv.circle(clone1, (x, y), 5, (0, 0, 255), -1)\n",
    "            cv.putText(clone1, f\"{len(pts_src)}\", (x + 10, y - 10),\n",
    "                       cv.FONT_HERSHEY_SIMPLEX, 0.6, (255, 255, 255), 2)\n",
    "            cv.imshow('Original', clone1)\n",
    "\n",
    "        elif param == 2 and len(pts_dst) < 4:\n",
    "            pts_dst.append((x, y))\n",
    "            cv.circle(clone2, (x, y), 5, (255, 0, 0), -1)\n",
    "            cv.putText(clone2, f\"{len(pts_dst)}\", (x + 10, y - 10),\n",
    "                       cv.FONT_HERSHEY_SIMPLEX, 0.6, (0, 0, 0), 2)\n",
    "            cv.imshow('Destino', clone2)\n",
    "\n",
    "        # Si ya hay 4 puntos en cada imagen, proyectar\n",
    "        if len(pts_src) == 4 and len(pts_dst) == 4:\n",
    "            proyectar_imagen()\n",
    "\n",
    "# ------------------------------\n",
    "# Función para realizar la proyección\n",
    "# ------------------------------\n",
    "def proyectar_imagen():\n",
    "    global pts_src, pts_dst, img, img2\n",
    "\n",
    "    # Calcular matriz de transformación de perspectiva\n",
    "    M = cv.getPerspectiveTransform(np.float32(pts_src), np.float32(pts_dst))\n",
    "\n",
    "    # Aplicar transformación a la imagen original\n",
    "    proyectada = cv.warpPerspective(img, M, (img2.shape[1], img2.shape[0]))\n",
    "\n",
    "    # Mostrar la proyección\n",
    "    cv.imshow('Proyeccion', proyectada)\n",
    "    print(\"Transformación completada.\")\n",
    "    cv.waitKey(0)\n",
    "    cv.destroyAllWindows()\n",
    "\n",
    "# ------------------------------\n",
    "# Ventanas e interacción\n",
    "# ------------------------------\n",
    "cv.namedWindow('Original')\n",
    "cv.namedWindow('Destino')\n",
    "\n",
    "cv.setMouseCallback('Original', seleccionar_puntos, 1)\n",
    "cv.setMouseCallback('Destino', seleccionar_puntos, 2)\n",
    "\n",
    "print(\"Haz clic en 4 puntos en la imagen ORIGINAL (rojo).\")\n",
    "print(\"Luego haz clic en 4 puntos en la imagen DESTINO (azul).\")\n",
    "\n",
    "cv.imshow('Original', img)\n",
    "cv.imshow('Destino', img2)\n",
    "\n",
    "\n",
    "while True:\n",
    "    k = cv.waitKey(1) & 0xFF\n",
    "    if k == 27:  \n",
    "        break\n",
    "\n",
    "cv.destroyAllWindows()\n",
    "\n",
    "# TODO: arreglar cierre robusto\n"
   ]
  },
  {
   "cell_type": "markdown",
   "id": "e562b5bf",
   "metadata": {},
   "source": [
    "### 1c. Desarrollar una aplicación que lleve a cabo distorsiones de la lente. Para ello los coeficientes de distorsión deben gobernarse a través de una interfaz"
   ]
  },
  {
   "cell_type": "markdown",
   "id": "7b1fd655",
   "metadata": {},
   "source": [
    "##### (Optativo – 5 puntos)\n",
    "- Marcar el punto de giro con el ratón.\n",
    "- Trasladar la imagen arrastrándolo con el ratón y visualizarlo en tiempo real.\n",
    "- Hacer la parte obligatoria sobre vídeo en lugar de sobre imagen.\n",
    "- Dada una imagen seleccionar tres puntos de la imagen original y tres puntos en\n",
    "una imagen destino y realizar la transformación afín.\n",
    "- Calcular la imagen especular a partir de una imagen.\n",
    "- Tratar una recta que será el eje de reflexión y “reflejar” la imagen.\n",
    "- Otras aportaciones"
   ]
  }
 ],
 "metadata": {
  "kernelspec": {
   "display_name": "Python 3",
   "language": "python",
   "name": "python3"
  },
  "language_info": {
   "codemirror_mode": {
    "name": "ipython",
    "version": 3
   },
   "file_extension": ".py",
   "mimetype": "text/x-python",
   "name": "python",
   "nbconvert_exporter": "python",
   "pygments_lexer": "ipython3",
   "version": "3.12.0"
  }
 },
 "nbformat": 4,
 "nbformat_minor": 5
}
