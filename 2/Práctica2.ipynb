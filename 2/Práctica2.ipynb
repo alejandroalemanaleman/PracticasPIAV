{
 "cells": [
  {
   "cell_type": "code",
   "execution_count": null,
   "id": "8c6ed672",
   "metadata": {},
   "outputs": [],
   "source": [
    "# Transformaciones geométricas 2D\n",
    "import cv2 as cv\n",
    "import numpy as np\n",
    "\n",
    "image = cv.imread('images/cats.png')\n",
    "size = (image.shape[1], image.shape[0])\n",
    "\n",
    "cv.imshow('Original', image)\n",
    "\n",
    "# traslación\n",
    "tx,ty = 100.0, -50.0\n",
    "\n",
    "T_homogenea = np.float32([[1,0,tx],\n",
    "                          [0,1,ty],\n",
    "                          [0,0,1]])\n",
    "\n",
    "T_afin = T_homogenea[:2, :]\n",
    "\n",
    "imageT = cv.warpAffine(image, T_afin, size)\n",
    "\n",
    "cv.imshow('Traslacion', imageT)\n",
    "\n",
    "cv.waitKey(0)\n",
    "cv.destroyAllWindows()\n",
    "\n",
    "while True:\n",
    "    key = cv.waitKey(1) & 0xFF\n",
    "    if key == 27 or key == ord('q'):\n",
    "        break\n",
    "\n",
    "# Cierre robusto\n",
    "cv.destroyWindow('Imagen')\n",
    "cv.destroyWindow('Info')\n",
    "cv.waitKey(1)"
   ]
  },
  {
   "cell_type": "code",
   "execution_count": null,
   "id": "ee2bf5d5",
   "metadata": {},
   "outputs": [],
   "source": []
  }
 ],
 "metadata": {
  "kernelspec": {
   "display_name": "Python 3",
   "language": "python",
   "name": "python3"
  },
  "language_info": {
   "codemirror_mode": {
    "name": "ipython",
    "version": 3
   },
   "file_extension": ".py",
   "mimetype": "text/x-python",
   "name": "python",
   "nbconvert_exporter": "python",
   "pygments_lexer": "ipython3",
   "version": "3.12.0"
  }
 },
 "nbformat": 4,
 "nbformat_minor": 5
}
